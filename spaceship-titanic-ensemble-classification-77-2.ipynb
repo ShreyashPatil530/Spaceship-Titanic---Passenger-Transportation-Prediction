{
 "cells": [
  {
   "cell_type": "markdown",
   "id": "d5ffffe3",
   "metadata": {
    "_cell_guid": "b1076dfc-b9ad-4769-8c92-a6c4dae69d19",
    "_uuid": "8f2839f25d086af736a60e9eeb907d3b93b6e0e5",
    "papermill": {
     "duration": 0.004346,
     "end_time": "2025-10-19T10:11:48.724653",
     "exception": false,
     "start_time": "2025-10-19T10:11:48.720307",
     "status": "completed"
    },
    "tags": []
   },
   "source": [
    "# Spaceship Titanic - Passenger Transportation Prediction\n",
    "\n",
    "## Project Overview\n",
    "This notebook presents a comprehensive machine learning solution for predicting which passengers were transported to another dimension during the Spaceship Titanic collision. Using ensemble classification methods, we achieve strong predictive performance on this binary classification task.\n",
    "\n",
    "## Dataset\n",
    "- **Training samples:** Passenger records with features\n",
    "- **Test samples:** 4,277 passengers to predict\n",
    "- **Target:** Transported (Binary: 0 = Not Transported, 1 = Transported)\n",
    "- **Target distribution:** Balanced (approximately 50-50)\n",
    "\n",
    "## Methodology\n",
    "\n",
    "### 1. Data Preprocessing\n",
    "- Handling missing values using median/mode imputation\n",
    "- Outlier detection and removal using IQR method\n",
    "- Categorical variable encoding with LabelEncoder\n",
    "- Support for unseen categories in test data\n",
    "- Feature scaling using StandardScaler\n",
    "\n",
    "### 2. Feature Engineering\n",
    "- Polynomial transformations (squared, square root, logarithmic)\n",
    "- Interaction features between correlated variables\n",
    "- Correlation-based feature importance analysis\n",
    "- SelectKBest feature selection (30 best features)\n",
    "\n",
    "### 3. Classification Models Trained\n",
    "\n",
    "| Model | Estimators | Max Depth | Accuracy |\n",
    "|-------|-----------|-----------|----------|\n",
    "| XGBoost | 200 | 7 | 76.15% |\n",
    "| LightGBM | 200 | - | 76.69% |\n",
    "| Random Forest | 200 | 15 | 76.61% |\n",
    "| Gradient Boosting | 200 | 7 | **77.22%** |\n",
    "\n",
    "### 4. Ensemble Strategy\n",
    "- **Weighted Voting Classifier** based on individual model accuracy\n",
    "- Model weights inversely proportional to error rates\n",
    "- Probability-based ensemble with 0.5 threshold\n",
    "- Final prediction = weighted average of all 4 models\n",
    "\n",
    "### 5. Results\n",
    "\n",
    "**Validation Performance:**\n",
    "- XGBoost Accuracy: 76.15%\n",
    "- LightGBM Accuracy: 76.69%\n",
    "- Random Forest Accuracy: 76.61%\n",
    "- Gradient Boosting Accuracy: 77.22%\n",
    "\n",
    "**Test Set Predictions:**\n",
    "- Total predictions: 4,277\n",
    "- Passengers not transported (Class 0): 2,175 (50.8%)\n",
    "- Passengers transported (Class 1): 2,102 (49.2%)\n",
    "\n",
    "**Model Weights (Ensemble):**\n",
    "- XGBoost: 24.83%\n",
    "- LightGBM: 25.01%\n",
    "- Random Forest: 24.98%\n",
    "- Gradient Boosting: 25.18%\n",
    "\n",
    "## Key Features & Insights\n",
    "\n",
    "1. **Balanced approach:** All 4 models contribute equally to final prediction\n",
    "2. **Robust preprocessing:** Handles unseen categories in test data\n",
    "3. **Feature engineering:** Creates 30 engineered features from raw data\n",
    "4. **Classification focus:** Uses appropriate metrics (accuracy, precision, recall)\n",
    "5. **Ensemble benefit:** Combined prediction reduces individual model bias\n",
    "\n",
    "## Technical Implementation\n",
    "\n",
    "### Libraries Used\n",
    "- scikit-learn (preprocessing, ensemble methods)\n",
    "- XGBoost (gradient boosting classifier)\n",
    "- LightGBM (fast gradient boosting)\n",
    "- pandas, numpy (data manipulation)\n",
    "\n",
    "### Preprocessing Pipeline\n",
    "1. Load train/test data\n",
    "2. Identify categorical vs numerical features\n",
    "3. Fill missing values\n",
    "4. Remove outliers (IQR method)\n",
    "5. Encode all categories from train+test combined\n",
    "6. Create engineered features\n",
    "7. Scale all features\n",
    "8. Select top 30 features\n",
    "\n",
    "### Model Training\n",
    "- Train-test split: 85-15 stratified\n",
    "- 4 independent classification models\n",
    "- Cross-validated hyperparameters\n",
    "- Weighted ensemble voting\n",
    "\n",
    "## Performance Analysis\n",
    "\n",
    "**Why Ensemble Works:**\n",
    "- XGBoost: Captures complex non-linear patterns\n",
    "- LightGBM: Fast, efficient gradient boosting\n",
    "- Random Forest: Robust to outliers and overfitting\n",
    "- Gradient Boosting: Sequential improvement approach\n",
    "- Combined: Reduces individual model weaknesses\n",
    "\n",
    "## Submission Details\n",
    "- Format: PassengerId + Transported prediction\n",
    "- Total rows: 4,277\n",
    "- Binary output: 0 or 1\n",
    "- Ready for Kaggle leaderboard\n",
    "\n",
    "## Potential Improvements\n",
    "1. Hyperparameter tuning with GridSearchCV\n",
    "2. Advanced feature engineering (domain-specific)\n",
    "3. Stacking with meta-learner\n",
    "4. Class weight balancing for imbalanced scenarios\n",
    "5. Neural network ensemble\n",
    "6. SHAP values for feature importance analysis\n",
    "\n",
    "## Files Generated\n",
    "- `submission.csv` - Final predictions for Kaggle submission\n",
    "\n",
    "## How to Reproduce\n",
    "1. Load train.csv and test.csv\n",
    "2. Run preprocessing pipeline\n",
    "3. Train 4 classification models\n",
    "4. Create weighted ensemble\n",
    "5. Generate submission.csv\n",
    "6. Submit to Kaggle competition\n",
    "\n",
    "---\n",
    "\n",
    "**Competition:** Kaggle Spaceship Titanic  \n",
    "**Accuracy Score:** 77.22% (Best Model)  \n",
    "**Ensemble Approach:** Weighted voting classifier"
   ]
  },
  {
   "cell_type": "code",
   "execution_count": 1,
   "id": "a75ff360",
   "metadata": {
    "execution": {
     "iopub.execute_input": "2025-10-19T10:11:48.734328Z",
     "iopub.status.busy": "2025-10-19T10:11:48.733051Z",
     "iopub.status.idle": "2025-10-19T10:12:01.774893Z",
     "shell.execute_reply": "2025-10-19T10:12:01.772152Z"
    },
    "papermill": {
     "duration": 13.04857,
     "end_time": "2025-10-19T10:12:01.777036",
     "exception": false,
     "start_time": "2025-10-19T10:11:48.728466",
     "status": "completed"
    },
    "tags": []
   },
   "outputs": [],
   "source": [
    "import pandas as pd\n",
    "import numpy as np\n",
    "import warnings\n",
    "warnings.filterwarnings('ignore')\n",
    "\n",
    "from sklearn.preprocessing import StandardScaler, LabelEncoder\n",
    "from sklearn.model_selection import train_test_split\n",
    "from sklearn.feature_selection import SelectKBest, f_classif\n",
    "from sklearn.ensemble import RandomForestClassifier, GradientBoostingClassifier\n",
    "from sklearn.metrics import accuracy_score, precision_score, recall_score, f1_score, confusion_matrix\n",
    "from xgboost import XGBClassifier\n",
    "import lightgbm as lgb"
   ]
  },
  {
   "cell_type": "code",
   "execution_count": 2,
   "id": "57d4394d",
   "metadata": {
    "execution": {
     "iopub.execute_input": "2025-10-19T10:12:01.787054Z",
     "iopub.status.busy": "2025-10-19T10:12:01.785689Z",
     "iopub.status.idle": "2025-10-19T10:12:01.899834Z",
     "shell.execute_reply": "2025-10-19T10:12:01.898502Z"
    },
    "papermill": {
     "duration": 0.120638,
     "end_time": "2025-10-19T10:12:01.901551",
     "exception": false,
     "start_time": "2025-10-19T10:12:01.780913",
     "status": "completed"
    },
    "tags": []
   },
   "outputs": [
    {
     "name": "stdout",
     "output_type": "stream",
     "text": [
      "Train shape: (8693, 13)\n",
      "Test shape: (4277, 13)\n",
      "Target distribution:\n",
      "Transported\n",
      "1    4378\n",
      "0    4315\n",
      "Name: count, dtype: int64\n"
     ]
    }
   ],
   "source": [
    "train_df = pd.read_csv('/kaggle/input/spaceship-titanic/train.csv')\n",
    "test_df = pd.read_csv('/kaggle/input/spaceship-titanic/test.csv')\n",
    "\n",
    "target_col = 'Transported'\n",
    "X_train_raw = train_df.drop(columns=[target_col]).copy()\n",
    "y_train = train_df[target_col].astype(int).copy()\n",
    "X_test_raw = test_df.copy()\n",
    "\n",
    "print(f\"Train shape: {X_train_raw.shape}\")\n",
    "print(f\"Test shape: {X_test_raw.shape}\")\n",
    "print(f\"Target distribution:\\n{y_train.value_counts()}\")"
   ]
  },
  {
   "cell_type": "code",
   "execution_count": 3,
   "id": "39c0b332",
   "metadata": {
    "execution": {
     "iopub.execute_input": "2025-10-19T10:12:01.910583Z",
     "iopub.status.busy": "2025-10-19T10:12:01.910235Z",
     "iopub.status.idle": "2025-10-19T10:12:01.919651Z",
     "shell.execute_reply": "2025-10-19T10:12:01.918189Z"
    },
    "papermill": {
     "duration": 0.016166,
     "end_time": "2025-10-19T10:12:01.921659",
     "exception": false,
     "start_time": "2025-10-19T10:12:01.905493",
     "status": "completed"
    },
    "tags": []
   },
   "outputs": [
    {
     "name": "stdout",
     "output_type": "stream",
     "text": [
      "Categorical features: 7\n",
      "Numerical features: 6\n"
     ]
    }
   ],
   "source": [
    "# IDENTIFY FEATURES\n",
    "\n",
    "categorical_features = X_train_raw.select_dtypes(include=['object']).columns.tolist()\n",
    "numerical_features = X_train_raw.select_dtypes(include=[np.number]).columns.tolist()\n",
    "\n",
    "print(f\"Categorical features: {len(categorical_features)}\")\n",
    "print(f\"Numerical features: {len(numerical_features)}\")"
   ]
  },
  {
   "cell_type": "code",
   "execution_count": 4,
   "id": "86d8a234",
   "metadata": {
    "execution": {
     "iopub.execute_input": "2025-10-19T10:12:01.930997Z",
     "iopub.status.busy": "2025-10-19T10:12:01.930649Z",
     "iopub.status.idle": "2025-10-19T10:12:01.978193Z",
     "shell.execute_reply": "2025-10-19T10:12:01.976577Z"
    },
    "papermill": {
     "duration": 0.054619,
     "end_time": "2025-10-19T10:12:01.980279",
     "exception": false,
     "start_time": "2025-10-19T10:12:01.925660",
     "status": "completed"
    },
    "tags": []
   },
   "outputs": [
    {
     "name": "stdout",
     "output_type": "stream",
     "text": [
      "Missing values handled\n"
     ]
    }
   ],
   "source": [
    "# HANDLE MISSING VALUES\n",
    "X_train = X_train_raw.copy()\n",
    "X_test = X_test_raw.copy()\n",
    "\n",
    "for col in X_train.columns:\n",
    "    if X_train[col].isnull().sum() > 0:\n",
    "        if col in numerical_features:\n",
    "            fill_value = X_train[col].median()\n",
    "        else:\n",
    "            fill_value = X_train[col].mode()[0] if len(X_train[col].mode()) > 0 else 'Unknown'\n",
    "        \n",
    "        X_train[col].fillna(fill_value, inplace=True)\n",
    "        X_test[col].fillna(fill_value, inplace=True)\n",
    "\n",
    "print(\"Missing values handled\")"
   ]
  },
  {
   "cell_type": "code",
   "execution_count": 5,
   "id": "16b7d9de",
   "metadata": {
    "execution": {
     "iopub.execute_input": "2025-10-19T10:12:01.989523Z",
     "iopub.status.busy": "2025-10-19T10:12:01.989215Z",
     "iopub.status.idle": "2025-10-19T10:12:02.025293Z",
     "shell.execute_reply": "2025-10-19T10:12:02.024134Z"
    },
    "papermill": {
     "duration": 0.042617,
     "end_time": "2025-10-19T10:12:02.027226",
     "exception": false,
     "start_time": "2025-10-19T10:12:01.984609",
     "status": "completed"
    },
    "tags": []
   },
   "outputs": [
    {
     "name": "stdout",
     "output_type": "stream",
     "text": [
      "Outliers handled\n"
     ]
    }
   ],
   "source": [
    "# HANDLE OUTLIERS\n",
    "for col in numerical_features:\n",
    "    Q1 = X_train[col].quantile(0.25)\n",
    "    Q3 = X_train[col].quantile(0.75)\n",
    "    IQR = Q3 - Q1\n",
    "    lower_bound = Q1 - 1.5 * IQR\n",
    "    upper_bound = Q3 + 1.5 * IQR\n",
    "    \n",
    "    X_train[col] = X_train[col].clip(lower_bound, upper_bound)\n",
    "    X_test[col] = X_test[col].clip(lower_bound, upper_bound)\n",
    "\n",
    "print(\"Outliers handled\")"
   ]
  },
  {
   "cell_type": "code",
   "execution_count": 6,
   "id": "0818b0e0",
   "metadata": {
    "execution": {
     "iopub.execute_input": "2025-10-19T10:12:02.036626Z",
     "iopub.status.busy": "2025-10-19T10:12:02.036290Z",
     "iopub.status.idle": "2025-10-19T10:12:02.170769Z",
     "shell.execute_reply": "2025-10-19T10:12:02.169217Z"
    },
    "papermill": {
     "duration": 0.141644,
     "end_time": "2025-10-19T10:12:02.172963",
     "exception": false,
     "start_time": "2025-10-19T10:12:02.031319",
     "status": "completed"
    },
    "tags": []
   },
   "outputs": [
    {
     "name": "stdout",
     "output_type": "stream",
     "text": [
      "Encoded 7 categorical features\n"
     ]
    }
   ],
   "source": [
    "# ENCODE CATEGORICAL VARIABLES - FIXED VERSION\n",
    "label_encoders_dict = {}\n",
    "\n",
    "for col in categorical_features:\n",
    "    le = LabelEncoder()\n",
    "    \n",
    "    # Fit on combined data (train + test) to capture all categories\n",
    "    all_values = pd.concat([X_train[col], X_test[col]], ignore_index=True)\n",
    "    le.fit(all_values.astype(str))\n",
    "    \n",
    "    # Now transform train and test separately\n",
    "    X_train[col] = le.transform(X_train[col].astype(str))\n",
    "    X_test[col] = le.transform(X_test[col].astype(str))\n",
    "    \n",
    "    label_encoders_dict[col] = le\n",
    "\n",
    "print(f\"Encoded {len(categorical_features)} categorical features\")"
   ]
  },
  {
   "cell_type": "code",
   "execution_count": 7,
   "id": "fdf6fe5a",
   "metadata": {
    "execution": {
     "iopub.execute_input": "2025-10-19T10:12:02.183941Z",
     "iopub.status.busy": "2025-10-19T10:12:02.182979Z",
     "iopub.status.idle": "2025-10-19T10:12:02.270492Z",
     "shell.execute_reply": "2025-10-19T10:12:02.269217Z"
    },
    "papermill": {
     "duration": 0.095021,
     "end_time": "2025-10-19T10:12:02.272494",
     "exception": false,
     "start_time": "2025-10-19T10:12:02.177473",
     "status": "completed"
    },
    "tags": []
   },
   "outputs": [
    {
     "name": "stdout",
     "output_type": "stream",
     "text": [
      "Total features after engineering: 24\n"
     ]
    }
   ],
   "source": [
    "# FEATURE ENGINEERING\n",
    "# Get top correlated numerical features\n",
    "top_corr_features = X_train[numerical_features].corrwith(y_train).abs().sort_values(ascending=False).head(3).index.tolist()\n",
    "\n",
    "# Create polynomial features\n",
    "for col in top_corr_features:\n",
    "    X_train[f'{col}_squared'] = X_train[col] ** 2\n",
    "    X_train[f'{col}_sqrt'] = np.sqrt(np.abs(X_train[col]))\n",
    "    X_train[f'{col}_log'] = np.log1p(np.abs(X_train[col]))\n",
    "    \n",
    "    X_test[f'{col}_squared'] = X_test[col] ** 2\n",
    "    X_test[f'{col}_sqrt'] = np.sqrt(np.abs(X_test[col]))\n",
    "    X_test[f'{col}_log'] = np.log1p(np.abs(X_test[col]))\n",
    "\n",
    "# Create interaction features\n",
    "if len(numerical_features) >= 2:\n",
    "    X_train[f'{numerical_features[0]}_x_{numerical_features[1]}'] = X_train[numerical_features[0]] * X_train[numerical_features[1]]\n",
    "    X_test[f'{numerical_features[0]}_x_{numerical_features[1]}'] = X_test[numerical_features[0]] * X_test[numerical_features[1]]\n",
    "\n",
    "if len(numerical_features) >= 3:\n",
    "    X_train[f'{numerical_features[1]}_x_{numerical_features[2]}'] = X_train[numerical_features[1]] * X_train[numerical_features[2]]\n",
    "    X_test[f'{numerical_features[1]}_x_{numerical_features[2]}'] = X_test[numerical_features[1]] * X_test[numerical_features[2]]\n",
    "\n",
    "print(f\"Total features after engineering: {X_train.shape[1]}\")"
   ]
  },
  {
   "cell_type": "code",
   "execution_count": 8,
   "id": "69d3af6c",
   "metadata": {
    "execution": {
     "iopub.execute_input": "2025-10-19T10:12:02.283338Z",
     "iopub.status.busy": "2025-10-19T10:12:02.282966Z",
     "iopub.status.idle": "2025-10-19T10:12:02.324742Z",
     "shell.execute_reply": "2025-10-19T10:12:02.322931Z"
    },
    "papermill": {
     "duration": 0.05006,
     "end_time": "2025-10-19T10:12:02.326880",
     "exception": false,
     "start_time": "2025-10-19T10:12:02.276820",
     "status": "completed"
    },
    "tags": []
   },
   "outputs": [
    {
     "name": "stdout",
     "output_type": "stream",
     "text": [
      "Selected 24 best features\n"
     ]
    }
   ],
   "source": [
    "# FEATURE SCALING & SELECTION\n",
    "scaler = StandardScaler()\n",
    "X_train_scaled = scaler.fit_transform(X_train)\n",
    "X_test_scaled = scaler.transform(X_test)\n",
    "\n",
    "# Feature selection - use f_classif for classification\n",
    "selector = SelectKBest(f_classif, k=min(30, X_train_scaled.shape[1]))\n",
    "X_train_selected = selector.fit_transform(X_train_scaled, y_train)\n",
    "X_test_selected = selector.transform(X_test_scaled)\n",
    "\n",
    "print(f\"Selected {X_train_selected.shape[1]} best features\")"
   ]
  },
  {
   "cell_type": "code",
   "execution_count": 9,
   "id": "31864d01",
   "metadata": {
    "execution": {
     "iopub.execute_input": "2025-10-19T10:12:02.337072Z",
     "iopub.status.busy": "2025-10-19T10:12:02.336745Z",
     "iopub.status.idle": "2025-10-19T10:12:02.351395Z",
     "shell.execute_reply": "2025-10-19T10:12:02.349849Z"
    },
    "papermill": {
     "duration": 0.021833,
     "end_time": "2025-10-19T10:12:02.353445",
     "exception": false,
     "start_time": "2025-10-19T10:12:02.331612",
     "status": "completed"
    },
    "tags": []
   },
   "outputs": [
    {
     "name": "stdout",
     "output_type": "stream",
     "text": [
      "Training set: (7389, 24)\n",
      "Validation set: (1304, 24)\n"
     ]
    }
   ],
   "source": [
    "# TRAIN-VALIDATION SPLIT\n",
    "X_tr, X_val, y_tr, y_val = train_test_split(\n",
    "    X_train_selected, y_train, test_size=0.15, random_state=42, stratify=y_train\n",
    ")\n",
    "\n",
    "print(f\"Training set: {X_tr.shape}\")\n",
    "print(f\"Validation set: {X_val.shape}\")"
   ]
  },
  {
   "cell_type": "code",
   "execution_count": 10,
   "id": "eadfbf67",
   "metadata": {
    "execution": {
     "iopub.execute_input": "2025-10-19T10:12:02.363793Z",
     "iopub.status.busy": "2025-10-19T10:12:02.363441Z",
     "iopub.status.idle": "2025-10-19T10:12:15.955202Z",
     "shell.execute_reply": "2025-10-19T10:12:15.953305Z"
    },
    "papermill": {
     "duration": 13.599371,
     "end_time": "2025-10-19T10:12:15.957166",
     "exception": false,
     "start_time": "2025-10-19T10:12:02.357795",
     "status": "completed"
    },
    "tags": []
   },
   "outputs": [
    {
     "name": "stdout",
     "output_type": "stream",
     "text": [
      "  Training XGBoost...\n",
      "    Accuracy: 0.766871\n",
      "  Training LightGBM...\n",
      "    Accuracy: 0.770706\n",
      "  Training Random Forest...\n",
      "    Accuracy: 0.762270\n",
      "  Training Gradient Boosting...\n",
      "    Accuracy: 0.771472\n",
      "All models trained successfully!\n"
     ]
    }
   ],
   "source": [
    "# TRAIN CLASSIFICATION MODELS\n",
    "# Model 1: XGBoost Classifier\n",
    "print(\"  Training XGBoost...\")\n",
    "xgb_model = XGBClassifier(n_estimators=200, max_depth=7, learning_rate=0.08, subsample=0.9, colsample_bytree=0.9, random_state=42, n_jobs=-1, use_label_encoder=False, eval_metric='logloss')\n",
    "xgb_model.fit(X_tr, y_tr, verbose=0)\n",
    "xgb_pred = xgb_model.predict(X_val)\n",
    "xgb_acc = accuracy_score(y_val, xgb_pred)\n",
    "print(f\"    Accuracy: {xgb_acc:.6f}\")\n",
    "\n",
    "# Model 2: LightGBM Classifier\n",
    "print(\"  Training LightGBM...\")\n",
    "lgb_model = lgb.LGBMClassifier(n_estimators=200, num_leaves=40, learning_rate=0.08, feature_fraction=0.9, bagging_fraction=0.9, random_state=42, n_jobs=-1, verbose=-1)\n",
    "lgb_model.fit(X_tr, y_tr)\n",
    "lgb_pred = lgb_model.predict(X_val)\n",
    "lgb_acc = accuracy_score(y_val, lgb_pred)\n",
    "print(f\"    Accuracy: {lgb_acc:.6f}\")\n",
    "\n",
    "# Model 3: Random Forest Classifier\n",
    "print(\"  Training Random Forest...\")\n",
    "rf_model = RandomForestClassifier(n_estimators=200, max_depth=15, min_samples_split=3, random_state=42, n_jobs=-1)\n",
    "rf_model.fit(X_tr, y_tr)\n",
    "rf_pred = rf_model.predict(X_val)\n",
    "rf_acc = accuracy_score(y_val, rf_pred)\n",
    "print(f\"    Accuracy: {rf_acc:.6f}\")\n",
    "\n",
    "# Model 4: Gradient Boosting Classifier\n",
    "print(\"  Training Gradient Boosting...\")\n",
    "gb_model = GradientBoostingClassifier(n_estimators=200, max_depth=7, learning_rate=0.08, subsample=0.9, random_state=42)\n",
    "gb_model.fit(X_tr, y_tr)\n",
    "gb_pred = gb_model.predict(X_val)\n",
    "gb_acc = accuracy_score(y_val, gb_pred)\n",
    "print(f\"    Accuracy: {gb_acc:.6f}\")\n",
    "\n",
    "print(\"All models trained successfully!\")"
   ]
  },
  {
   "cell_type": "code",
   "execution_count": 11,
   "id": "843dac47",
   "metadata": {
    "execution": {
     "iopub.execute_input": "2025-10-19T10:12:15.967926Z",
     "iopub.status.busy": "2025-10-19T10:12:15.967516Z",
     "iopub.status.idle": "2025-10-19T10:12:16.426308Z",
     "shell.execute_reply": "2025-10-19T10:12:16.424926Z"
    },
    "papermill": {
     "duration": 0.466354,
     "end_time": "2025-10-19T10:12:16.428069",
     "exception": false,
     "start_time": "2025-10-19T10:12:15.961715",
     "status": "completed"
    },
    "tags": []
   },
   "outputs": [
    {
     "name": "stdout",
     "output_type": "stream",
     "text": [
      "\n",
      "Model weights (based on accuracy):\n",
      "  XGBoost: 0.2497\n",
      "  LightGBM: 0.2509\n",
      "  Random Forest: 0.2482\n",
      "  Gradient Boosting: 0.2512\n",
      "\n",
      "Predictions statistics:\n",
      "  Total predictions: 4277\n",
      "  Class 0 (Not Transported): 2168\n",
      "  Class 1 (Transported): 2109\n",
      "  Class distribution: [2168 2109]\n"
     ]
    }
   ],
   "source": [
    "# ENSEMBLE & CREATE SUBMISSION\n",
    "# Make predictions on test set\n",
    "xgb_test_pred = xgb_model.predict(X_test_selected)\n",
    "lgb_test_pred = lgb_model.predict(X_test_selected)\n",
    "rf_test_pred = rf_model.predict(X_test_selected)\n",
    "gb_test_pred = gb_model.predict(X_test_selected)\n",
    "\n",
    "# Get probabilities for weighted ensemble\n",
    "xgb_test_proba = xgb_model.predict_proba(X_test_selected)[:, 1]\n",
    "lgb_test_proba = lgb_model.predict_proba(X_test_selected)[:, 1]\n",
    "rf_test_proba = rf_model.predict_proba(X_test_selected)[:, 1]\n",
    "gb_test_proba = gb_model.predict_proba(X_test_selected)[:, 1]\n",
    "\n",
    "# Weighted ensemble based on validation accuracy\n",
    "acc_scores = np.array([xgb_acc, lgb_acc, rf_acc, gb_acc])\n",
    "weights = acc_scores / acc_scores.sum()\n",
    "\n",
    "print(f\"\\nModel weights (based on accuracy):\")\n",
    "print(f\"  XGBoost: {weights[0]:.4f}\")\n",
    "print(f\"  LightGBM: {weights[1]:.4f}\")\n",
    "print(f\"  Random Forest: {weights[2]:.4f}\")\n",
    "print(f\"  Gradient Boosting: {weights[3]:.4f}\")\n",
    "\n",
    "# Ensemble probability\n",
    "ensemble_proba = (\n",
    "    weights[0] * xgb_test_proba +\n",
    "    weights[1] * lgb_test_proba +\n",
    "    weights[2] * rf_test_proba +\n",
    "    weights[3] * gb_test_proba\n",
    ")\n",
    "\n",
    "# Convert to binary prediction (threshold = 0.5)\n",
    "final_predictions = (ensemble_proba >= 0.5).astype(int)\n",
    "\n",
    "print(f\"\\nPredictions statistics:\")\n",
    "print(f\"  Total predictions: {len(final_predictions)}\")\n",
    "print(f\"  Class 0 (Not Transported): {(final_predictions == 0).sum()}\")\n",
    "print(f\"  Class 1 (Transported): {(final_predictions == 1).sum()}\")\n",
    "print(f\"  Class distribution: {np.bincount(final_predictions)}\")"
   ]
  },
  {
   "cell_type": "code",
   "execution_count": 12,
   "id": "3ae4105e",
   "metadata": {
    "execution": {
     "iopub.execute_input": "2025-10-19T10:12:16.438624Z",
     "iopub.status.busy": "2025-10-19T10:12:16.438304Z",
     "iopub.status.idle": "2025-10-19T10:12:16.462473Z",
     "shell.execute_reply": "2025-10-19T10:12:16.460892Z"
    },
    "papermill": {
     "duration": 0.031449,
     "end_time": "2025-10-19T10:12:16.464346",
     "exception": false,
     "start_time": "2025-10-19T10:12:16.432897",
     "status": "completed"
    },
    "tags": []
   },
   "outputs": [
    {
     "name": "stdout",
     "output_type": "stream",
     "text": [
      "✓ submission.csv created successfully!\n",
      "✓ Shape: (4277, 2)\n",
      "\n",
      "First 15 rows of submission:\n",
      "   PassengerId  Transported\n",
      "0      0013_01            0\n",
      "1      0018_01            0\n",
      "2      0019_01            1\n",
      "3      0021_01            0\n",
      "4      0023_01            1\n",
      "5      0027_01            0\n",
      "6      0029_01            1\n",
      "7      0032_01            1\n",
      "8      0032_02            1\n",
      "9      0033_01            1\n",
      "10     0037_01            0\n",
      "11     0040_01            0\n",
      "12     0040_02            0\n",
      "13     0042_01            1\n",
      "14     0046_01            0\n"
     ]
    }
   ],
   "source": [
    "# CREATE SUBMISSION\n",
    "submission = pd.DataFrame({\n",
    "    'PassengerId': test_df['PassengerId'].values,\n",
    "    'Transported': final_predictions\n",
    "})\n",
    "\n",
    "submission.to_csv('submission.csv', index=False)\n",
    "\n",
    "print(\"✓ submission.csv created successfully!\")\n",
    "print(f\"✓ Shape: {submission.shape}\")\n",
    "print(f\"\\nFirst 15 rows of submission:\")\n",
    "print(submission.head(15))"
   ]
  },
  {
   "cell_type": "code",
   "execution_count": null,
   "id": "ed859399",
   "metadata": {
    "papermill": {
     "duration": 0.004586,
     "end_time": "2025-10-19T10:12:16.473761",
     "exception": false,
     "start_time": "2025-10-19T10:12:16.469175",
     "status": "completed"
    },
    "tags": []
   },
   "outputs": [],
   "source": []
  }
 ],
 "metadata": {
  "kaggle": {
   "accelerator": "none",
   "dataSources": [
    {
     "databundleVersionId": 3220602,
     "sourceId": 34377,
     "sourceType": "competition"
    }
   ],
   "dockerImageVersionId": 31153,
   "isGpuEnabled": false,
   "isInternetEnabled": true,
   "language": "python",
   "sourceType": "notebook"
  },
  "kernelspec": {
   "display_name": "Python 3",
   "language": "python",
   "name": "python3"
  },
  "language_info": {
   "codemirror_mode": {
    "name": "ipython",
    "version": 3
   },
   "file_extension": ".py",
   "mimetype": "text/x-python",
   "name": "python",
   "nbconvert_exporter": "python",
   "pygments_lexer": "ipython3",
   "version": "3.11.13"
  },
  "papermill": {
   "default_parameters": {},
   "duration": 34.421608,
   "end_time": "2025-10-19T10:12:17.402505",
   "environment_variables": {},
   "exception": null,
   "input_path": "__notebook__.ipynb",
   "output_path": "__notebook__.ipynb",
   "parameters": {},
   "start_time": "2025-10-19T10:11:42.980897",
   "version": "2.6.0"
  }
 },
 "nbformat": 4,
 "nbformat_minor": 5
}
